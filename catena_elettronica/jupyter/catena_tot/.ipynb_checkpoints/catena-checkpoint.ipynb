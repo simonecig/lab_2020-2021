{
 "cells": [
  {
   "cell_type": "markdown",
   "metadata": {},
   "source": [
    "# Catena completa"
   ]
  },
  {
   "cell_type": "markdown",
   "metadata": {},
   "source": [
    "## Importo librerie e costanti"
   ]
  },
  {
   "cell_type": "code",
   "execution_count": 21,
   "metadata": {},
   "outputs": [],
   "source": [
    "import matplotlib.pyplot as plt\n",
    "from scipy.optimize import curve_fit\n",
    "import numpy as np\n",
    "import pandas as pd\n",
    "import math"
   ]
  },
  {
   "cell_type": "code",
   "execution_count": 1,
   "metadata": {},
   "outputs": [],
   "source": [
    "# distribuzione uniforme\n",
    "deltaTosigma= 0.58\n",
    "# multimetro \n",
    "multi_C_dig = 5*deltaTosigma # errore digit capacità\n",
    "multi_C_k = 0.03*deltaTosigma # errore scala capacità\n",
    "\n",
    "multi_R_dig = 2*deltaTosigma # errore digit resistenza\n",
    "multi_R_k = 0.008*deltaTosigma # errore scala resistenza\n",
    "\n",
    "# oscilloscopio (tensioni)\n",
    "osc_scala = 0.03*deltaTosigma\n",
    "osc_dig = 2/256*deltaTosigma\n",
    "\n",
    "# oscilloscopio (tempi)\n",
    "# trascurabile?\n",
    "osc_t_err=0.04 # errore lettura, [div]"
   ]
  },
  {
   "cell_type": "markdown",
   "metadata": {},
   "source": [
    "## Misure dirette dei componenti"
   ]
  },
  {
   "cell_type": "code",
   "execution_count": 3,
   "metadata": {},
   "outputs": [
    {
     "name": "stdout",
     "output_type": "stream",
     "text": [
      "32.8 0.1913593605340486\n",
      "67.9 0.12196532809876746\n",
      "120.6 0.12196532809876746\n"
     ]
    }
   ],
   "source": [
    "R1a=32.8 # kOhm\n",
    "R1a_e=( (multi_R_k*R1a)**2+(multi_R_dig*0.1)**2 )**0.5\n",
    "R2a1=67.9 # kOhm\n",
    "R2a1_e=( (multi_R_k*R2a)**2+(multi_R_dig*0.1)**2 )**0.5\n",
    "R2a2=120.6 # kOhm\n",
    "R2a2_e=( (multi_R_k*R2a)**2+(multi_R_dig*0.1)**2 )**0.5\n",
    "\n",
    "print(R1a,R1a_e)\n",
    "print(R2a1,R2a1_e)\n",
    "print(R2a2,R2a2_e)"
   ]
  },
  {
   "cell_type": "markdown",
   "metadata": {},
   "source": [
    "## Stadio finale di amplificazione"
   ]
  },
  {
   "cell_type": "markdown",
   "metadata": {},
   "source": [
    "Per verificare il corretto funzionamento del circuito,\n",
    "viene inserito in ingresso un segnale sinusoidale di frequenza $1\\,kHz$ e ampiezza $1V$."
   ]
  },
  {
   "cell_type": "markdown",
   "metadata": {},
   "source": [
    "L'amplificazione teorica è data da $H_{th}=\\frac{R_{2a1}+R_{2a2}}{R_{1a}}+1$"
   ]
  },
  {
   "cell_type": "code",
   "execution_count": 9,
   "metadata": {},
   "outputs": [
    {
     "name": "stdout",
     "output_type": "stream",
     "text": [
      "6.746951219512195 0.03555980020944383\n"
     ]
    }
   ],
   "source": [
    "Hth=(R2a1+R2a2)/R1a+1\n",
    "Hth_e=Ath*((R2a1_e/R2a1)**2+\n",
    "          (R2a2_e/R2a2)**2+\n",
    "          (R1a_e/R1a)**2)**0.5\n",
    "print(Hth,Hth_e)"
   ]
  },
  {
   "cell_type": "markdown",
   "metadata": {},
   "source": [
    "Sperimentalmente invece si osserva"
   ]
  },
  {
   "cell_type": "code",
   "execution_count": 12,
   "metadata": {},
   "outputs": [
    {
     "name": "stdout",
     "output_type": "stream",
     "text": [
      "0.985 0.019387476041248897\n",
      "6.672 0.12462247336692527\n",
      "6.773604060913706 0.18379984873944924\n"
     ]
    }
   ],
   "source": [
    "Vin=0.985\n",
    "Vin_scala=2\n",
    "Vout_scala=10\n",
    "Vout=6.672\n",
    "Vout_e=((osc_dig*Vout_scala)**2+(osc_scala*Vout)**2)**0.5\n",
    "Vin_e=((osc_dig*Vin_scala)**2+(osc_scala*Vin)**2)**0.5\n",
    "Hsp=Vout/Vin\n",
    "Hsp_e=Hsp*((Vout_e/Vout)**2+(Vin_e/Vin)**2)**0.5\n",
    "print(Vin,Vin_e)\n",
    "print(Vout,Vout_e)\n",
    "print(Hsp,Hsp_e)"
   ]
  },
  {
   "cell_type": "markdown",
   "metadata": {},
   "source": [
    "La compatibilità vale quindi:"
   ]
  },
  {
   "cell_type": "code",
   "execution_count": 17,
   "metadata": {},
   "outputs": [
    {
     "name": "stdout",
     "output_type": "stream",
     "text": [
      "0.14237010678299053\n"
     ]
    }
   ],
   "source": [
    "comp=abs(Hth-Hsp)/(Hth_e**2+Hsp_e**2)**0.5\n",
    "print(comp)"
   ]
  },
  {
   "cell_type": "markdown",
   "metadata": {},
   "source": [
    "Si inserisce ora il segnale dello shaper in input e \n",
    "si verifica di ottenere l'oputput previsto"
   ]
  },
  {
   "cell_type": "code",
   "execution_count": 18,
   "metadata": {},
   "outputs": [],
   "source": [
    "Vin=-0.995 # V\n",
    "Vin_scala=2\n",
    "Vout=2.08 # V\n",
    "Vout_scala=5\n",
    "Vin_e=((osc_dig*Vin_scala)**2+(osc_scala*Vin)**2)**0.5\n",
    "Vout_e=((osc_dig*Vout_scala)**2+(osc_scala*Vout)**2)**0.5\n",
    "\n",
    "\n"
   ]
  },
  {
   "cell_type": "markdown",
   "metadata": {},
   "source": [
    "## Linearità della catena elettronica"
   ]
  },
  {
   "cell_type": "markdown",
   "metadata": {},
   "source": [
    "Si modifica ora la durata dell'impulso di ingresso in modo \n",
    "da variare al quantità di carica iniettata e si misura\n",
    "l'altezza massima del segnale in uscita.\n",
    "Importo i le coppie $V_{out}^{MAX}$,$Q_{IN}$."
   ]
  },
  {
   "cell_type": "code",
   "execution_count": 25,
   "metadata": {},
   "outputs": [
    {
     "name": "stdout",
     "output_type": "stream",
     "text": [
      "Cf_pre (nF) 0.189 0.004384619705288019 2.319904605972497\n",
      "Rf_pre (MOhm) 0.816 0.003959951178688949 0.48528813464325354\n",
      "Rin (kOhm) 82.0 0.397770072277943 0.4850854539974915\n"
     ]
    }
   ],
   "source": [
    "data_lin=pd.read_csv(\"dati/tot_lin.txt\",delimiter=\"\\t\")\n",
    "# [Volt], [us]\n",
    "\n",
    "# capacità\n",
    "Cf_pre = 0.189 # nF\n",
    "Cf_pre_err=((0.001*multi_C_dig)**2 \n",
    "           + (Cf_pre*multi_C_k)**2)**0.5\n",
    "\n",
    "# resistenze\n",
    "Rf_pre = 0.816 # MOhm\n",
    "Rf_pre_err=((0.001*multi_R_dig)**2 \n",
    "           + (Rf_pre*multi_R_k)**2)**0.5\n",
    "Rin = 82.0 #kOhm\n",
    "Rin_err = ((0.1*multi_R_dig)**2+\n",
    "          (Rin*multi_R_k)**2)**0.5\n",
    "# generatore\n",
    "Rgen = 600 # Ohm\n",
    "#Rin=Rin+Rgen*10**(-3)\n",
    "print(\"Cf_pre (nF)\", Cf_pre, Cf_pre_err,Cf_pre_err/Cf_pre*100)\n",
    "print(\"Rf_pre (MOhm)\", Rf_pre, Rf_pre_err, Rf_pre_err/Rf_pre*100)\n",
    "print(\"Rin (kOhm)\", Rin, Rin_err, Rin_err/Rin*100)"
   ]
  },
  {
   "cell_type": "markdown",
   "metadata": {},
   "source": [
    "Calcolo le cariche dai periodi, ma per il momento\n",
    "ignoro l'errore (correlazione)"
   ]
  },
  {
   "cell_type": "code",
   "execution_count": 32,
   "metadata": {},
   "outputs": [
    {
     "data": {
      "text/html": [
       "<div>\n",
       "<style scoped>\n",
       "    .dataframe tbody tr th:only-of-type {\n",
       "        vertical-align: middle;\n",
       "    }\n",
       "\n",
       "    .dataframe tbody tr th {\n",
       "        vertical-align: top;\n",
       "    }\n",
       "\n",
       "    .dataframe thead th {\n",
       "        text-align: right;\n",
       "    }\n",
       "</style>\n",
       "<table border=\"1\" class=\"dataframe\">\n",
       "  <thead>\n",
       "    <tr style=\"text-align: right;\">\n",
       "      <th></th>\n",
       "      <th>vin</th>\n",
       "      <th>vout</th>\n",
       "      <th>scala</th>\n",
       "      <th>T</th>\n",
       "      <th>Q</th>\n",
       "      <th>Vout_e</th>\n",
       "      <th>vout_e</th>\n",
       "    </tr>\n",
       "  </thead>\n",
       "  <tbody>\n",
       "    <tr>\n",
       "      <th>0</th>\n",
       "      <td>-0.995</td>\n",
       "      <td>0.8336</td>\n",
       "      <td>1</td>\n",
       "      <td>5</td>\n",
       "      <td>4.05960</td>\n",
       "      <td>0.015196</td>\n",
       "      <td>0.015196</td>\n",
       "    </tr>\n",
       "    <tr>\n",
       "      <th>1</th>\n",
       "      <td>-0.995</td>\n",
       "      <td>0.9201</td>\n",
       "      <td>1</td>\n",
       "      <td>6</td>\n",
       "      <td>4.87152</td>\n",
       "      <td>0.016639</td>\n",
       "      <td>0.016639</td>\n",
       "    </tr>\n",
       "    <tr>\n",
       "      <th>2</th>\n",
       "      <td>-0.995</td>\n",
       "      <td>1.0950</td>\n",
       "      <td>2</td>\n",
       "      <td>7</td>\n",
       "      <td>5.68344</td>\n",
       "      <td>0.021098</td>\n",
       "      <td>0.021098</td>\n",
       "    </tr>\n",
       "    <tr>\n",
       "      <th>3</th>\n",
       "      <td>-0.995</td>\n",
       "      <td>1.1810</td>\n",
       "      <td>2</td>\n",
       "      <td>8</td>\n",
       "      <td>6.49536</td>\n",
       "      <td>0.022459</td>\n",
       "      <td>0.022459</td>\n",
       "    </tr>\n",
       "    <tr>\n",
       "      <th>4</th>\n",
       "      <td>-0.995</td>\n",
       "      <td>1.4440</td>\n",
       "      <td>2</td>\n",
       "      <td>10</td>\n",
       "      <td>8.11920</td>\n",
       "      <td>0.026710</td>\n",
       "      <td>0.026710</td>\n",
       "    </tr>\n",
       "    <tr>\n",
       "      <th>5</th>\n",
       "      <td>-0.995</td>\n",
       "      <td>1.6910</td>\n",
       "      <td>2</td>\n",
       "      <td>12</td>\n",
       "      <td>9.74304</td>\n",
       "      <td>0.030787</td>\n",
       "      <td>0.030787</td>\n",
       "    </tr>\n",
       "    <tr>\n",
       "      <th>6</th>\n",
       "      <td>-0.995</td>\n",
       "      <td>1.8500</td>\n",
       "      <td>2</td>\n",
       "      <td>13</td>\n",
       "      <td>10.55496</td>\n",
       "      <td>0.033441</td>\n",
       "      <td>0.033441</td>\n",
       "    </tr>\n",
       "    <tr>\n",
       "      <th>7</th>\n",
       "      <td>-0.995</td>\n",
       "      <td>2.0720</td>\n",
       "      <td>5</td>\n",
       "      <td>15</td>\n",
       "      <td>12.17880</td>\n",
       "      <td>0.042581</td>\n",
       "      <td>0.042581</td>\n",
       "    </tr>\n",
       "  </tbody>\n",
       "</table>\n",
       "</div>"
      ],
      "text/plain": [
       "     vin    vout  scala   T         Q    Vout_e    vout_e\n",
       "0 -0.995  0.8336      1   5   4.05960  0.015196  0.015196\n",
       "1 -0.995  0.9201      1   6   4.87152  0.016639  0.016639\n",
       "2 -0.995  1.0950      2   7   5.68344  0.021098  0.021098\n",
       "3 -0.995  1.1810      2   8   6.49536  0.022459  0.022459\n",
       "4 -0.995  1.4440      2  10   8.11920  0.026710  0.026710\n",
       "5 -0.995  1.6910      2  12   9.74304  0.030787  0.030787\n",
       "6 -0.995  1.8500      2  13  10.55496  0.033441  0.033441\n",
       "7 -0.995  2.0720      5  15  12.17880  0.042581  0.042581"
      ]
     },
     "execution_count": 32,
     "metadata": {},
     "output_type": "execute_result"
    }
   ],
   "source": [
    "data_lin['Q']=-data_lin['T']*Rf_pre*data_lin['vin']\n",
    "data_lin"
   ]
  },
  {
   "cell_type": "markdown",
   "metadata": {},
   "source": [
    "Associo gli errori delle y"
   ]
  },
  {
   "cell_type": "code",
   "execution_count": 29,
   "metadata": {},
   "outputs": [
    {
     "data": {
      "text/html": [
       "<div>\n",
       "<style scoped>\n",
       "    .dataframe tbody tr th:only-of-type {\n",
       "        vertical-align: middle;\n",
       "    }\n",
       "\n",
       "    .dataframe tbody tr th {\n",
       "        vertical-align: top;\n",
       "    }\n",
       "\n",
       "    .dataframe thead th {\n",
       "        text-align: right;\n",
       "    }\n",
       "</style>\n",
       "<table border=\"1\" class=\"dataframe\">\n",
       "  <thead>\n",
       "    <tr style=\"text-align: right;\">\n",
       "      <th></th>\n",
       "      <th>vin</th>\n",
       "      <th>vout</th>\n",
       "      <th>scala</th>\n",
       "      <th>T</th>\n",
       "      <th>Q</th>\n",
       "      <th>Vout_e</th>\n",
       "      <th>vout_e</th>\n",
       "    </tr>\n",
       "  </thead>\n",
       "  <tbody>\n",
       "    <tr>\n",
       "      <th>0</th>\n",
       "      <td>-0.995</td>\n",
       "      <td>0.8336</td>\n",
       "      <td>1</td>\n",
       "      <td>5</td>\n",
       "      <td>-4.05960</td>\n",
       "      <td>0.015196</td>\n",
       "      <td>0.015196</td>\n",
       "    </tr>\n",
       "    <tr>\n",
       "      <th>1</th>\n",
       "      <td>-0.995</td>\n",
       "      <td>0.9201</td>\n",
       "      <td>1</td>\n",
       "      <td>6</td>\n",
       "      <td>-4.87152</td>\n",
       "      <td>0.016639</td>\n",
       "      <td>0.016639</td>\n",
       "    </tr>\n",
       "    <tr>\n",
       "      <th>2</th>\n",
       "      <td>-0.995</td>\n",
       "      <td>1.0950</td>\n",
       "      <td>2</td>\n",
       "      <td>7</td>\n",
       "      <td>-5.68344</td>\n",
       "      <td>0.021098</td>\n",
       "      <td>0.021098</td>\n",
       "    </tr>\n",
       "    <tr>\n",
       "      <th>3</th>\n",
       "      <td>-0.995</td>\n",
       "      <td>1.1810</td>\n",
       "      <td>2</td>\n",
       "      <td>8</td>\n",
       "      <td>-6.49536</td>\n",
       "      <td>0.022459</td>\n",
       "      <td>0.022459</td>\n",
       "    </tr>\n",
       "    <tr>\n",
       "      <th>4</th>\n",
       "      <td>-0.995</td>\n",
       "      <td>1.4440</td>\n",
       "      <td>2</td>\n",
       "      <td>10</td>\n",
       "      <td>-8.11920</td>\n",
       "      <td>0.026710</td>\n",
       "      <td>0.026710</td>\n",
       "    </tr>\n",
       "    <tr>\n",
       "      <th>5</th>\n",
       "      <td>-0.995</td>\n",
       "      <td>1.6910</td>\n",
       "      <td>2</td>\n",
       "      <td>12</td>\n",
       "      <td>-9.74304</td>\n",
       "      <td>0.030787</td>\n",
       "      <td>0.030787</td>\n",
       "    </tr>\n",
       "    <tr>\n",
       "      <th>6</th>\n",
       "      <td>-0.995</td>\n",
       "      <td>1.8500</td>\n",
       "      <td>2</td>\n",
       "      <td>13</td>\n",
       "      <td>-10.55496</td>\n",
       "      <td>0.033441</td>\n",
       "      <td>0.033441</td>\n",
       "    </tr>\n",
       "    <tr>\n",
       "      <th>7</th>\n",
       "      <td>-0.995</td>\n",
       "      <td>2.0720</td>\n",
       "      <td>5</td>\n",
       "      <td>15</td>\n",
       "      <td>-12.17880</td>\n",
       "      <td>0.042581</td>\n",
       "      <td>0.042581</td>\n",
       "    </tr>\n",
       "  </tbody>\n",
       "</table>\n",
       "</div>"
      ],
      "text/plain": [
       "     vin    vout  scala   T         Q    Vout_e    vout_e\n",
       "0 -0.995  0.8336      1   5  -4.05960  0.015196  0.015196\n",
       "1 -0.995  0.9201      1   6  -4.87152  0.016639  0.016639\n",
       "2 -0.995  1.0950      2   7  -5.68344  0.021098  0.021098\n",
       "3 -0.995  1.1810      2   8  -6.49536  0.022459  0.022459\n",
       "4 -0.995  1.4440      2  10  -8.11920  0.026710  0.026710\n",
       "5 -0.995  1.6910      2  12  -9.74304  0.030787  0.030787\n",
       "6 -0.995  1.8500      2  13 -10.55496  0.033441  0.033441\n",
       "7 -0.995  2.0720      5  15 -12.17880  0.042581  0.042581"
      ]
     },
     "execution_count": 29,
     "metadata": {},
     "output_type": "execute_result"
    }
   ],
   "source": [
    "data_lin['vout_e']=((osc_dig*data_lin['scala'])**2+\n",
    "                    (osc_scala*data_lin['vout'])**2)**0.5\n",
    "data_lin"
   ]
  },
  {
   "cell_type": "markdown",
   "metadata": {},
   "source": [
    "Faccio grafico + fit"
   ]
  },
  {
   "cell_type": "code",
   "execution_count": 38,
   "metadata": {},
   "outputs": [
    {
     "data": {
      "text/plain": [
       "[<matplotlib.lines.Line2D at 0x7fcd9d6b85e0>]"
      ]
     },
     "execution_count": 38,
     "metadata": {},
     "output_type": "execute_result"
    },
    {
     "data": {
      "image/png": "[encoded data removed]",
      "text/plain": [
       "<Figure size 576x576 with 2 Axes>"
      ]
     },
     "metadata": {
      "needs_background": "light"
     },
     "output_type": "display_data"
    }
   ],
   "source": [
    "X=data_lin['Q']\n",
    "Y=data_lin['vout']\n",
    "Y_e=data_lin['vout_e']\n",
    "\n",
    "fig,axes=plt.subplots(nrows=2,figsize=(8,8), gridspec_kw=dict(height_ratios=[3,1]))\n",
    "axes[0].errorbar(X,Y,Y_e,fmt='.')\n",
    "\n",
    "def linF(X,m,q):\n",
    "    return X*m+q\n",
    "\n",
    "par,cov=curve_fit(linF,X,Y,sigma=Y_e,absolute_sigma=True)\n",
    "axes[0].plot(np.linspace(4,13),linF(np.linspace(4,13),*par),\"--\")\n",
    "\n",
    "diff=Y-linF(X,*par)\n",
    "axes[1].errorbar(X,diff,Y_e,fmt='.')\n",
    "axes[1].plot(np.linspace(4,13),np.linspace(0,0),':',color='gray')"
   ]
  },
  {
   "cell_type": "markdown",
   "metadata": {},
   "source": [
    "## Risposta in frequenza della catena elettronica"
   ]
  },
  {
   "cell_type": "markdown",
   "metadata": {},
   "source": [
    "Importo i dati "
   ]
  },
  {
   "cell_type": "code",
   "execution_count": 42,
   "metadata": {},
   "outputs": [
    {
     "data": {
      "text/plain": [
       "[<matplotlib.lines.Line2D at 0x7fcd9fbc09d0>]"
      ]
     },
     "execution_count": 42,
     "metadata": {},
     "output_type": "execute_result"
    },
    {
     "data": {
      "image/png": "[encoded data removed]",
      "text/plain": [
       "<Figure size 432x288 with 1 Axes>"
      ]
     },
     "metadata": {
      "needs_background": "light"
     },
     "output_type": "display_data"
    }
   ],
   "source": [
    "data_bode=pd.read_csv(\"dati/tot_bode.txt\",delimiter=\"\\t\")\n",
    "data_bode_s=pd.read_csv(\"simulazioni/catena_bode.txt\",delimiter=\"\\t\")\n",
    "# freq [Hz] V [Volt]\n",
    "data_bode['Hdb']=20*np.log10(data_bode['Vout']/data_bode['Vin'])\n",
    "X=data_bode['f']\n",
    "Y=data_bode['Hdb']\n",
    "plt.plot(X,Y,'.')\n",
    "plt.plot(data_bode_s['f'],data_bode_s['V'])\n",
    "plt.semilogx(True)"
   ]
  },
  {
   "cell_type": "code",
   "execution_count": null,
   "metadata": {},
   "outputs": [],
   "source": []
  }
 ],
 "metadata": {
  "kernelspec": {
   "display_name": "Python 3",
   "language": "python",
   "name": "python3"
  },
  "language_info": {
   "codemirror_mode": {
    "name": "ipython",
    "version": 3
   },
   "file_extension": ".py",
   "mimetype": "text/x-python",
   "name": "python",
   "nbconvert_exporter": "python",
   "pygments_lexer": "ipython3",
   "version": "3.9.2"
  },
  "toc": {
   "base_numbering": 1,
   "nav_menu": {},
   "number_sections": true,
   "sideBar": true,
   "skip_h1_title": false,
   "title_cell": "Table of Contents",
   "title_sidebar": "Contents",
   "toc_cell": false,
   "toc_position": {},
   "toc_section_display": true,
   "toc_window_display": true
  }
 },
 "nbformat": 4,
 "nbformat_minor": 4
}
